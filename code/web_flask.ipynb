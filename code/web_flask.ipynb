{
 "cells": [
  {
   "cell_type": "code",
   "execution_count": 1,
   "metadata": {},
   "outputs": [
    {
     "data": {
      "text/html": [
       "<script type=\"text/javascript\">window.PlotlyConfig = {MathJaxConfig: 'local'};</script><script type=\"text/javascript\">if (window.MathJax) {MathJax.Hub.Config({SVG: {font: \"STIX-Web\"}});}</script><script>requirejs.config({paths: { 'plotly': ['https://cdn.plot.ly/plotly-latest.min']},});if(!window._Plotly) {require(['plotly'],function(plotly) {window._Plotly=plotly;});}</script>"
      ],
      "text/vnd.plotly.v1+html": [
       "<script type=\"text/javascript\">window.PlotlyConfig = {MathJaxConfig: 'local'};</script><script type=\"text/javascript\">if (window.MathJax) {MathJax.Hub.Config({SVG: {font: \"STIX-Web\"}});}</script><script>requirejs.config({paths: { 'plotly': ['https://cdn.plot.ly/plotly-latest.min']},});if(!window._Plotly) {require(['plotly'],function(plotly) {window._Plotly=plotly;});}</script>"
      ]
     },
     "metadata": {},
     "output_type": "display_data"
    }
   ],
   "source": [
    "import plotly\n",
    "import plotly.plotly as py\n",
    "import plotly.graph_objs as go\n",
    "import datetime\n",
    "from plotly.offline import download_plotlyjs, init_notebook_mode, plot, iplot\n",
    "import json\n",
    "init_notebook_mode(connected=True)\n",
    "import pandas as pd"
   ]
  },
  {
   "cell_type": "code",
   "execution_count": 2,
   "metadata": {},
   "outputs": [],
   "source": [
    "def create_plot():\n",
    "\n",
    "    df = pd.read_csv('./stat_permonth.csv')\n",
    "#     iplot([{\"x\": df['monthonly'], \"y\": df['counts']}])\n",
    "    data = [go.Scatter(x=df['monthonly'] ,y=df['counts'])]\n",
    "    graphJSON = json.dumps(data, cls=plotly.utils.PlotlyJSONEncoder)\n",
    "    df = pd.read_csv('./stat_perday.csv')\n",
    "    data = [go.Scatter(x=df['dateonly'] ,y=df['counts'])]\n",
    "    graphJSON2 = json.dumps(data, cls=plotly.utils.PlotlyJSONEncoder)\n",
    "\n",
    "    return graphJSON,graphJSON2"
   ]
  },
  {
   "cell_type": "code",
   "execution_count": 122,
   "metadata": {},
   "outputs": [
    {
     "name": "stdout",
     "output_type": "stream",
     "text": [
      " * Serving Flask app \"__main__\" (lazy loading)\n",
      " * Environment: production\n",
      "   WARNING: Do not use the development server in a production environment.\n",
      "   Use a production WSGI server instead.\n",
      " * Debug mode: off\n"
     ]
    },
    {
     "name": "stderr",
     "output_type": "stream",
     "text": [
      " * Running on http://59.29.224.81:5000/ (Press CTRL+C to quit)\n",
      "59.29.224.81 - - [26/Mar/2019 14:56:20] \"GET / HTTP/1.1\" 200 -\n",
      "59.29.224.81 - - [26/Mar/2019 14:56:23] \"GET /graph HTTP/1.1\" 200 -\n",
      "59.29.224.81 - - [26/Mar/2019 14:56:25] \"GET /graph2 HTTP/1.1\" 200 -\n",
      "59.29.224.81 - - [26/Mar/2019 14:56:54] \"GET / HTTP/1.1\" 200 -\n",
      "59.29.224.81 - - [26/Mar/2019 14:56:54] \"GET /static/js/side_menu.js HTTP/1.1\" 200 -\n",
      "59.29.224.81 - - [26/Mar/2019 14:56:54] \"GET /static/css/theme2.css HTTP/1.1\" 200 -\n",
      "59.29.224.81 - - [26/Mar/2019 14:56:54] \"GET /static/css/theme.css HTTP/1.1\" 200 -\n",
      "59.29.224.81 - - [26/Mar/2019 14:56:54] \"GET /static/img/hynix.png HTTP/1.1\" 200 -\n",
      "59.29.224.81 - - [26/Mar/2019 14:56:54] \"GET /static/img/title2.png HTTP/1.1\" 200 -\n",
      "59.29.224.81 - - [26/Mar/2019 14:56:54] \"GET /static/img/graph.png HTTP/1.1\" 200 -\n",
      "59.29.224.81 - - [26/Mar/2019 14:56:54] \"GET /static/img/keyword.png HTTP/1.1\" 200 -\n",
      "59.29.224.81 - - [26/Mar/2019 14:56:59] \"GET /select HTTP/1.1\" 200 -\n",
      "59.29.224.81 - - [26/Mar/2019 14:57:03] \"GET /dash HTTP/1.1\" 200 -\n",
      "59.29.224.81 - - [26/Mar/2019 14:57:14] \"GET /keyword2 HTTP/1.1\" 404 -\n",
      "59.29.224.81 - - [26/Mar/2019 14:57:18] \"GET /keyword HTTP/1.1\" 200 -\n",
      "59.29.224.81 - - [26/Mar/2019 14:57:18] \"GET /static/img/wordcloud.png HTTP/1.1\" 200 -\n",
      "[2019-03-26 14:57:41,876] ERROR in app: Exception on /test [GET]\n",
      "Traceback (most recent call last):\n",
      "  File \"C:\\Users\\HPE\\Anaconda3\\lib\\site-packages\\flask\\app.py\", line 2292, in wsgi_app\n",
      "    response = self.full_dispatch_request()\n",
      "  File \"C:\\Users\\HPE\\Anaconda3\\lib\\site-packages\\flask\\app.py\", line 1815, in full_dispatch_request\n",
      "    rv = self.handle_user_exception(e)\n",
      "  File \"C:\\Users\\HPE\\Anaconda3\\lib\\site-packages\\flask\\app.py\", line 1718, in handle_user_exception\n",
      "    reraise(exc_type, exc_value, tb)\n",
      "  File \"C:\\Users\\HPE\\Anaconda3\\lib\\site-packages\\flask\\_compat.py\", line 35, in reraise\n",
      "    raise value\n",
      "  File \"C:\\Users\\HPE\\Anaconda3\\lib\\site-packages\\flask\\app.py\", line 1813, in full_dispatch_request\n",
      "    rv = self.dispatch_request()\n",
      "  File \"C:\\Users\\HPE\\Anaconda3\\lib\\site-packages\\flask\\app.py\", line 1799, in dispatch_request\n",
      "    return self.view_functions[rule.endpoint](**req.view_args)\n",
      "  File \"<ipython-input-122-5ccf1bf42586>\", line 72, in test\n",
      "    new_result['num'] = num*1000\n",
      "TypeError: unsupported operand type(s) for *: 'NoneType' and 'int'\n",
      "59.29.224.81 - - [26/Mar/2019 14:57:41] \"GET /test HTTP/1.1\" 500 -\n",
      "59.29.224.81 - - [26/Mar/2019 14:57:46] \"GET /submit HTTP/1.1\" 404 -\n",
      "59.29.224.81 - - [26/Mar/2019 14:57:50] \"GET /hi HTTP/1.1\" 200 -\n",
      "59.29.224.81 - - [26/Mar/2019 14:57:55] \"POST /test HTTP/1.1\" 200 -\n",
      "[2019-03-26 14:58:15,510] ERROR in app: Exception on /test [GET]\n",
      "Traceback (most recent call last):\n",
      "  File \"C:\\Users\\HPE\\Anaconda3\\lib\\site-packages\\flask\\app.py\", line 2292, in wsgi_app\n",
      "    response = self.full_dispatch_request()\n",
      "  File \"C:\\Users\\HPE\\Anaconda3\\lib\\site-packages\\flask\\app.py\", line 1815, in full_dispatch_request\n",
      "    rv = self.handle_user_exception(e)\n",
      "  File \"C:\\Users\\HPE\\Anaconda3\\lib\\site-packages\\flask\\app.py\", line 1718, in handle_user_exception\n",
      "    reraise(exc_type, exc_value, tb)\n",
      "  File \"C:\\Users\\HPE\\Anaconda3\\lib\\site-packages\\flask\\_compat.py\", line 35, in reraise\n",
      "    raise value\n",
      "  File \"C:\\Users\\HPE\\Anaconda3\\lib\\site-packages\\flask\\app.py\", line 1813, in full_dispatch_request\n",
      "    rv = self.dispatch_request()\n",
      "  File \"C:\\Users\\HPE\\Anaconda3\\lib\\site-packages\\flask\\app.py\", line 1799, in dispatch_request\n",
      "    return self.view_functions[rule.endpoint](**req.view_args)\n",
      "  File \"<ipython-input-122-5ccf1bf42586>\", line 72, in test\n",
      "    new_result['num'] = num*1000\n",
      "TypeError: unsupported operand type(s) for *: 'NoneType' and 'int'\n",
      "59.29.224.81 - - [26/Mar/2019 14:58:15] \"GET /test HTTP/1.1\" 500 -\n",
      "59.29.224.81 - - [26/Mar/2019 14:58:23] \"GET /graph HTTP/1.1\" 200 -\n",
      "59.29.224.81 - - [26/Mar/2019 14:58:26] \"GET /graph2 HTTP/1.1\" 200 -\n"
     ]
    }
   ],
   "source": [
    "from flask import Flask, render_template, request\n",
    "\n",
    "\n",
    "app = Flask(__name__)\n",
    "\n",
    "\n",
    "@app.route(\"/graph\")\n",
    "def graph():\n",
    "\n",
    "    gr1,gr2 = create_plot()\n",
    "    return render_template('graph.html',plot=gr1,plot2=gr2)\n",
    "\n",
    "@app.route(\"/\")\n",
    "def index():\n",
    "    \n",
    "    return render_template(\"index.html\")\n",
    "\n",
    "@app.route(\"/index\")\n",
    "def index2():\n",
    "    \n",
    "    return render_template(\"index.html\")\n",
    "\n",
    "@app.route(\"/keyword\")\n",
    "def keyword():\n",
    "    \n",
    "    return render_template(\"keyword.html\")\n",
    "\n",
    "@app.route(\"/hi\",methods=['GET','POST'])\n",
    "def hi():\n",
    "\n",
    "    return render_template(\"submit.html\")\n",
    "\n",
    "@app.route(\"/select\")\n",
    "def select():\n",
    "\n",
    "    return render_template(\"select.html\")\n",
    "\n",
    "@app.route(\"/dash\")\n",
    "def dash():\n",
    "\n",
    "    return render_template(\"dashboard.html\")\n",
    "\n",
    "\n",
    "@app.route(\"/test\",methods=['GET','POST'])\n",
    "def test():\n",
    "    if request.method == 'POST':\n",
    "        result = request.form\n",
    "        start = result['from']\n",
    "        end = result['to']\n",
    "        num = result['topic_num']\n",
    "        new_result=dict()\n",
    "        new_result['from'] = str(start)+\"nnnn\"\n",
    "        new_result['end'] = str(end)+\"kkkk\"\n",
    "        new_result['num'] = num*1000\n",
    "    elif request.method==\"GET\":\n",
    "        \n",
    "        new_result=dict()\n",
    "        start = request.args.get('from')\n",
    "        end = request.args.get('to')\n",
    "        num = request.args.get('topic_num')\n",
    "        \n",
    "        \n",
    "        new_result['from'] = str(start)+\"nnnn\"\n",
    "        new_result['end'] = str(end)+\"kkkk\"\n",
    "        new_result['num'] = num*1000\n",
    "    \n",
    "    return render_template(\"test.html\",result = new_result)\n",
    "\n",
    "\n",
    "if __name__ == \"__main__\":\n",
    "    app.run(host='59.29.224.81',threaded=True)"
   ]
  },
  {
   "cell_type": "code",
   "execution_count": null,
   "metadata": {},
   "outputs": [],
   "source": []
  },
  {
   "cell_type": "code",
   "execution_count": 37,
   "metadata": {},
   "outputs": [],
   "source": [
    "d1 = pd.read_csv('./crawling.csv')"
   ]
  },
  {
   "cell_type": "code",
   "execution_count": 63,
   "metadata": {},
   "outputs": [],
   "source": [
    "d2 = d1[d1['voc_type'].isin(li)]"
   ]
  },
  {
   "cell_type": "code",
   "execution_count": 59,
   "metadata": {},
   "outputs": [],
   "source": [
    "li = set(d1['voc_type'])"
   ]
  },
  {
   "cell_type": "code",
   "execution_count": 60,
   "metadata": {},
   "outputs": [],
   "source": [
    "li = list(li)[1:]"
   ]
  },
  {
   "cell_type": "code",
   "execution_count": 65,
   "metadata": {},
   "outputs": [],
   "source": [
    "d3 = d2.groupby(['voc_type']).size().reset_index(name='counts')"
   ]
  },
  {
   "cell_type": "code",
   "execution_count": 69,
   "metadata": {},
   "outputs": [],
   "source": [
    "labels = list(d3['voc_type'])\n",
    "values = list(d3['counts'])"
   ]
  },
  {
   "cell_type": "code",
   "execution_count": 75,
   "metadata": {},
   "outputs": [
    {
     "data": {
      "text/html": [
       "<script type=\"text/javascript\">window.PlotlyConfig = {MathJaxConfig: 'local'};</script><script type=\"text/javascript\">if (window.MathJax) {MathJax.Hub.Config({SVG: {font: \"STIX-Web\"}});}</script><script>requirejs.config({paths: { 'plotly': ['https://cdn.plot.ly/plotly-latest.min']},});if(!window._Plotly) {require(['plotly'],function(plotly) {window._Plotly=plotly;});}</script>"
      ],
      "text/vnd.plotly.v1+html": [
       "<script type=\"text/javascript\">window.PlotlyConfig = {MathJaxConfig: 'local'};</script><script type=\"text/javascript\">if (window.MathJax) {MathJax.Hub.Config({SVG: {font: \"STIX-Web\"}});}</script><script>requirejs.config({paths: { 'plotly': ['https://cdn.plot.ly/plotly-latest.min']},});if(!window._Plotly) {require(['plotly'],function(plotly) {window._Plotly=plotly;});}</script>"
      ]
     },
     "metadata": {},
     "output_type": "display_data"
    }
   ],
   "source": [
    "import plotly.plotly as py\n",
    "import plotly.graph_objs as go\n",
    "# import datetime\n",
    "import plotly.graph_objs as go\n",
    "from plotly.offline import download_plotlyjs, init_notebook_mode, plot, iplot\n",
    "init_notebook_mode(connected=True)\n",
    "import datetime"
   ]
  },
  {
   "cell_type": "code",
   "execution_count": 114,
   "metadata": {},
   "outputs": [
    {
     "data": {
      "application/vnd.plotly.v1+json": {
       "config": {
        "linkText": "Export to plot.ly",
        "plotlyServerURL": "https://plot.ly",
        "showLink": false
       },
       "data": [
        {
         "hole": 0.7,
         "labels": [
          "건의",
          "건의 - 기타",
          "건의 - 노선(정류장)신설 및 증차",
          "건의 / 노선(정류장)신설 및 증차",
          "문의"
         ],
         "name": "Hi",
         "type": "pie",
         "uid": "8c7d89c4-a5f9-409a-8535-9e7d8c19d2d0",
         "values": [
          47,
          3,
          9,
          4,
          44
         ]
        }
       ],
       "layout": {
        "annotations": [
         {
          "font": {
           "color": "black",
           "family": "뫼비우스 Regular",
           "size": 50
          },
          "showarrow": false,
          "text": "버스",
          "x": 0.5,
          "y": 0.5
         }
        ],
        "font": {
         "family": "뫼비우스 Regular"
        },
        "showlegend": false
       }
      },
      "text/html": [
       "<div id=\"b989f068-9211-47ec-ab6f-bff3ab86e66c\" style=\"height: 525px; width: 100%;\" class=\"plotly-graph-div\"></div><script type=\"text/javascript\">require([\"plotly\"], function(Plotly) { window.PLOTLYENV=window.PLOTLYENV || {};window.PLOTLYENV.BASE_URL=\"https://plot.ly\";\n",
       "if (document.getElementById(\"b989f068-9211-47ec-ab6f-bff3ab86e66c\")) {\n",
       "    Plotly.newPlot(\"b989f068-9211-47ec-ab6f-bff3ab86e66c\", [{\"hole\": 0.7, \"labels\": [\"\\uac74\\uc758\", \"\\uac74\\uc758 - \\uae30\\ud0c0\", \"\\uac74\\uc758 - \\ub178\\uc120(\\uc815\\ub958\\uc7a5)\\uc2e0\\uc124 \\ubc0f \\uc99d\\ucc28\", \"\\uac74\\uc758 / \\ub178\\uc120(\\uc815\\ub958\\uc7a5)\\uc2e0\\uc124 \\ubc0f \\uc99d\\ucc28\", \"\\ubb38\\uc758\"], \"name\": \"Hi\", \"values\": [47, 3, 9, 4, 44], \"type\": \"pie\", \"uid\": \"8c7d89c4-a5f9-409a-8535-9e7d8c19d2d0\"}], {\"annotations\": [{\"font\": {\"color\": \"black\", \"family\": \"\\ubafc\\ube44\\uc6b0\\uc2a4 Regular\", \"size\": 50}, \"showarrow\": false, \"text\": \"\\ubc84\\uc2a4\", \"x\": 0.5, \"y\": 0.5}], \"font\": {\"family\": \"\\ubafc\\ube44\\uc6b0\\uc2a4 Regular\"}, \"showlegend\": false}, {\"showLink\": false, \"linkText\": \"Export to plot.ly\", \"plotlyServerURL\": \"https://plot.ly\"}); \n",
       "}\n",
       "});</script><script type=\"text/javascript\">window.addEventListener(\"resize\", function(){if (document.getElementById(\"b989f068-9211-47ec-ab6f-bff3ab86e66c\")) {window._Plotly.Plots.resize(document.getElementById(\"b989f068-9211-47ec-ab6f-bff3ab86e66c\"));};})</script>"
      ],
      "text/vnd.plotly.v1+html": [
       "<div id=\"b989f068-9211-47ec-ab6f-bff3ab86e66c\" style=\"height: 525px; width: 100%;\" class=\"plotly-graph-div\"></div><script type=\"text/javascript\">require([\"plotly\"], function(Plotly) { window.PLOTLYENV=window.PLOTLYENV || {};window.PLOTLYENV.BASE_URL=\"https://plot.ly\";\n",
       "if (document.getElementById(\"b989f068-9211-47ec-ab6f-bff3ab86e66c\")) {\n",
       "    Plotly.newPlot(\"b989f068-9211-47ec-ab6f-bff3ab86e66c\", [{\"hole\": 0.7, \"labels\": [\"\\uac74\\uc758\", \"\\uac74\\uc758 - \\uae30\\ud0c0\", \"\\uac74\\uc758 - \\ub178\\uc120(\\uc815\\ub958\\uc7a5)\\uc2e0\\uc124 \\ubc0f \\uc99d\\ucc28\", \"\\uac74\\uc758 / \\ub178\\uc120(\\uc815\\ub958\\uc7a5)\\uc2e0\\uc124 \\ubc0f \\uc99d\\ucc28\", \"\\ubb38\\uc758\"], \"name\": \"Hi\", \"values\": [47, 3, 9, 4, 44], \"type\": \"pie\", \"uid\": \"8c7d89c4-a5f9-409a-8535-9e7d8c19d2d0\"}], {\"annotations\": [{\"font\": {\"color\": \"black\", \"family\": \"\\ubafc\\ube44\\uc6b0\\uc2a4 Regular\", \"size\": 50}, \"showarrow\": false, \"text\": \"\\ubc84\\uc2a4\", \"x\": 0.5, \"y\": 0.5}], \"font\": {\"family\": \"\\ubafc\\ube44\\uc6b0\\uc2a4 Regular\"}, \"showlegend\": false}, {\"showLink\": false, \"linkText\": \"Export to plot.ly\", \"plotlyServerURL\": \"https://plot.ly\"}); \n",
       "}\n",
       "});</script><script type=\"text/javascript\">window.addEventListener(\"resize\", function(){if (document.getElementById(\"b989f068-9211-47ec-ab6f-bff3ab86e66c\")) {window._Plotly.Plots.resize(document.getElementById(\"b989f068-9211-47ec-ab6f-bff3ab86e66c\"));};})</script>"
      ]
     },
     "metadata": {},
     "output_type": "display_data"
    }
   ],
   "source": [
    "tra = go.Pie(labels=labels[:5], values=values[:5], hole=.7, name=\"Hi\")\n",
    "lay = go.Layout(font={\"family\":\"뫼비우스 Regular\"},showlegend=False,annotations=[{\"text\":\"버스\",\"x\":0.5,\"y\":0.5,\"showarrow\":False,\"font\":{\"family\":\"뫼비우스 Regular\",\"size\":50,\"color\":\"black\"}}])\n",
    "fig = go.Figure(data=[tra], layout=lay)\n",
    "iplot(fig)\n"
   ]
  },
  {
   "cell_type": "code",
   "execution_count": 115,
   "metadata": {},
   "outputs": [],
   "source": [
    "plot3 =  json.dumps(fig, cls=plotly.utils.PlotlyJSONEncoder)"
   ]
  },
  {
   "cell_type": "code",
   "execution_count": null,
   "metadata": {},
   "outputs": [],
   "source": []
  }
 ],
 "metadata": {
  "kernelspec": {
   "display_name": "Python 3",
   "language": "python",
   "name": "python3"
  },
  "language_info": {
   "codemirror_mode": {
    "name": "ipython",
    "version": 3
   },
   "file_extension": ".py",
   "mimetype": "text/x-python",
   "name": "python",
   "nbconvert_exporter": "python",
   "pygments_lexer": "ipython3",
   "version": "3.7.1"
  }
 },
 "nbformat": 4,
 "nbformat_minor": 2
}
